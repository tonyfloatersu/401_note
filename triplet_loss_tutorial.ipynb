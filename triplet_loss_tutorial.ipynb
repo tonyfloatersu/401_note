{
  "nbformat": 4,
  "nbformat_minor": 0,
  "metadata": {
    "colab": {
      "name": "triplet_loss_tutorial.ipynb",
      "provenance": [],
      "collapsed_sections": [],
      "toc_visible": true,
      "authorship_tag": "ABX9TyM9UDR4NDcQHg5WuiMbRZVv",
      "include_colab_link": true
    },
    "kernelspec": {
      "name": "python3",
      "display_name": "Python 3"
    }
  },
  "cells": [
    {
      "cell_type": "markdown",
      "metadata": {
        "id": "view-in-github",
        "colab_type": "text"
      },
      "source": [
        "<a href=\"https://colab.research.google.com/github/tonyfloatersu/401_note/blob/master/triplet_loss_tutorial.ipynb\" target=\"_parent\"><img src=\"https://colab.research.google.com/assets/colab-badge.svg\" alt=\"Open In Colab\"/></a>"
      ]
    },
    {
      "cell_type": "markdown",
      "metadata": {
        "id": "pYXhvcdtKOIu",
        "colab_type": "text"
      },
      "source": [
        "# Deep Face Recognition Tutorial\n",
        "\n",
        "\n",
        "This tutorial is made for [parkhi15](https://www.robots.ox.ac.uk/~vgg/publications/2015/Parkhi15/parkhi15.pdf), "
      ]
    },
    {
      "cell_type": "markdown",
      "metadata": {
        "id": "wsSYDCFgKPUs",
        "colab_type": "text"
      },
      "source": [
        "## 1. Customized Dataset\n",
        "\n"
      ]
    },
    {
      "cell_type": "markdown",
      "metadata": {
        "id": "KWKP43At0-OG",
        "colab_type": "text"
      },
      "source": [
        "To demonstrate face recognition, we provide a custom dataset, which is a subset of [LFW](http://vis-www.cs.umass.edu/lfw/). \n",
        "\n",
        "It contains face images belonging to 100 different identities."
      ]
    },
    {
      "cell_type": "code",
      "metadata": {
        "id": "x9YQytsNKPZi",
        "colab_type": "code",
        "colab": {}
      },
      "source": [
        "# first we download all the lfw\n",
        "!wget -nc http://vis-www.cs.umass.edu/lfw/lfw.tgz\n",
        "!tar xf lfw.tgz\n",
        "!ls -al"
      ],
      "execution_count": 0,
      "outputs": []
    },
    {
      "cell_type": "code",
      "metadata": {
        "id": "EiuIwPUS_nJq",
        "colab_type": "code",
        "colab": {}
      },
      "source": [
        "import os\n",
        "import tabulate\n",
        "\n",
        "_, entries, _ = next(os.walk(\"./lfw\"))\n",
        "entries_size_tuple_list = [(entry, len(os.listdir(\"./lfw/\" + entry)))\n",
        "                            for entry in entries]\n",
        "\n",
        "# lets see how many enties in lfw dataset\n",
        "print(\"There are\", len(entries_size_tuple_list), \"entries\\n\")\n",
        "\n",
        "# then we sort the file directories by how many files inside\n",
        "entries_size_tuple_list.sort(key=lambda x: x[-1], reverse=True)\n",
        "\n",
        "# take the first 20 to 120 largest directories (0 - 19 dirs are too large)\n",
        "INDEX_SRT, INDEX_END = 20, 120\n",
        "customized_data_metadata = entries_size_tuple_list[INDEX_SRT: INDEX_END]\n",
        "for (name, size) in customized_data_metadata:\n",
        "    print(name, \":\", size)"
      ],
      "execution_count": 0,
      "outputs": []
    },
    {
      "cell_type": "code",
      "metadata": {
        "id": "Upfi-vbCMGHQ",
        "colab_type": "code",
        "colab": {}
      },
      "source": [
        "# re-gather these data from lfw\n",
        "import shutil\n",
        "\n",
        "shutil.rmtree(\"./data/\", ignore_errors=True)\n",
        "os.mkdir(\"./data/\")\n",
        "\n",
        "for (dir, _) in customized_data_metadata:\n",
        "    destination = shutil.copytree(\"./lfw/\" + dir, \"./data/\" + dir,\n",
        "                                  copy_function = shutil.copy)\n",
        "\n",
        "# save space, remove original lfw, since we have data\n",
        "!rm -rf ./lfw\n",
        "!rm ./lfw.tgz"
      ],
      "execution_count": 0,
      "outputs": []
    },
    {
      "cell_type": "code",
      "metadata": {
        "id": "lpfGSw8QRgFv",
        "colab_type": "code",
        "colab": {}
      },
      "source": [
        "# separate training and verification"
      ],
      "execution_count": 0,
      "outputs": []
    },
    {
      "cell_type": "code",
      "metadata": {
        "id": "6EptPGx_Sbr_",
        "colab_type": "code",
        "colab": {}
      },
      "source": [
        "# define customized data loader"
      ],
      "execution_count": 0,
      "outputs": []
    },
    {
      "cell_type": "markdown",
      "metadata": {
        "id": "Er4bBTV-y8Ya",
        "colab_type": "text"
      },
      "source": [
        "### 1.1 Image Preprocess: Alignment"
      ]
    },
    {
      "cell_type": "code",
      "metadata": {
        "id": "Kue6S6KgzHWG",
        "colab_type": "code",
        "colab": {}
      },
      "source": [
        ""
      ],
      "execution_count": 0,
      "outputs": []
    },
    {
      "cell_type": "markdown",
      "metadata": {
        "id": "qQNmAOpn7pjc",
        "colab_type": "text"
      },
      "source": [
        "## 2. Re-create the model in **parkhi15**"
      ]
    }
  ]
}